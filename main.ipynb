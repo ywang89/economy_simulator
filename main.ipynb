{
 "cells": [
  {
   "cell_type": "code",
   "execution_count": 311,
   "metadata": {},
   "outputs": [],
   "source": [
    "import pdb\n",
    "\n",
    "import matplotlib.pyplot as plt\n",
    "import numpy as np\n",
    "import pandas as pd"
   ]
  },
  {
   "cell_type": "code",
   "execution_count": null,
   "metadata": {},
   "outputs": [],
   "source": []
  },
  {
   "cell_type": "markdown",
   "metadata": {},
   "source": [
    "# Define classes"
   ]
  },
  {
   "cell_type": "markdown",
   "metadata": {},
   "source": [
    "## Define `person`"
   ]
  },
  {
   "cell_type": "code",
   "execution_count": 312,
   "metadata": {},
   "outputs": [],
   "source": [
    "class person:\n",
    "    def __init__(\n",
    "        self,\n",
    "        name,\n",
    "        amt_cons_food_per_day,\n",
    "        amt_cons_cloth_per_day,\n",
    "        amt_prod_food_per_day, \n",
    "        amt_prod_cloth_per_day,\n",
    "        prices,\n",
    "    ):  \n",
    "        '''\n",
    "        Parameters\n",
    "        ----------\n",
    "        prices: dict\n",
    "            Prices of each good\n",
    "        '''\n",
    "        self.name = name\n",
    "\n",
    "        self.amt_food = 10\n",
    "        self.amt_cloth = 10\n",
    "        self.money = 100\n",
    "        \n",
    "        self.amt_cons_food_per_day = amt_cons_food_per_day\n",
    "        self.amt_cons_cloth_per_day = amt_cons_cloth_per_day\n",
    "        \n",
    "        self.amt_prod_food_per_day = amt_prod_food_per_day\n",
    "        self.amt_prod_cloth_per_day = amt_prod_cloth_per_day\n",
    "        \n",
    "        self.prices = prices\n",
    "\n",
    "    \n",
    "    \n",
    "    def consume(self):\n",
    "        if self.amt_food >= self.amt_cons_food_per_day:\n",
    "            self.amt_food = self.amt_food - self.amt_cons_food_per_day\n",
    "        else:\n",
    "            raise Exception('No food to consume')\n",
    "        \n",
    "        if self.amt_cloth >= self.amt_cons_cloth_per_day:\n",
    "            self.amt_cloth = self.amt_cloth - self.amt_cons_cloth_per_day\n",
    "        else:\n",
    "            raise Exception('No cloth to consume')\n",
    "\n",
    "\n",
    "    \n",
    "    def _produce_food(self):\n",
    "        self.amt_food = self.amt_food + self.amt_prod_food_per_day\n",
    "\n",
    "    def _produce_cloth(self):\n",
    "        self.amt_cloth = self.amt_cloth + self.amt_prod_cloth_per_day\n",
    "        \n",
    "    def _get_prod_func(self):\n",
    "        self.prod_funcs = [self._produce_food, self._produce_cloth]\n",
    "        \n",
    "    def produce_goods(self): \n",
    "        '''\n",
    "        Produce goods, more likely to produce goods that person is good at.\n",
    "        '''\n",
    "        # When one prodcut is 0 then must produce it\n",
    "        if self.amt_cloth == 0:\n",
    "            goods = pd.Series({'food': 0, 'cloth': 1})\n",
    "        elif self.amt_food == 0:\n",
    "            goods = pd.Series({'food': 1, 'cloth': 0})\n",
    "        # Common case\n",
    "        else:\n",
    "            goods = pd.Series({\n",
    "                'food': self.amt_prod_food_per_day,\n",
    "                'cloth': self.amt_prod_cloth_per_day\n",
    "            })\n",
    "\n",
    "        cumulative_p = np.cumsum(goods / goods.sum())\n",
    "\n",
    "        self._get_prod_func()\n",
    "\n",
    "        rand_num = np.random.random()\n",
    "        for prod_func, cp in zip(self.prod_funcs, cumulative_p):\n",
    "            if rand_num < cp:\n",
    "                prod_func()\n",
    "                break\n",
    "        \n",
    "    def trade(self, other, prices, log_list):\n",
    "        '''\n",
    "        Trades with another `person`.\n",
    "        '''\n",
    "        # Determine trading probabilities `p`\n",
    "        p = pd.Series({\n",
    "            'no_trade': np.nan,\n",
    "            'b_f': np.nan,\n",
    "            'b_c': np.nan,\n",
    "            })\n",
    "        if (self.amt_food // self.amt_cons_food_per_day <= 1):\n",
    "            p['no_trade'] = 0\n",
    "            p['b_f'] = 1\n",
    "        elif (self.amt_cloth // self.amt_cons_cloth_per_day <= 1):\n",
    "            p['no_trade'] = 0\n",
    "            p['b_f'] = 0\n",
    "        else:\n",
    "            p['no_trade'] = 0.1 # 10% a person simply doesn't want to trade\n",
    "            p_trade = 1 - p['no_trade']\n",
    "            p['b_f'] = p_trade * (1 - self.amt_food / (self.amt_cloth + self.amt_food))\n",
    "        p['b_c'] =  1 - p['no_trade'] - p['b_f']\n",
    "\n",
    "        # Trade according to `p`\n",
    "        choice = np.random.choice([0, 1, 2], size=1, p=p)\n",
    "        if choice == 0:\n",
    "            log_list.append(self.name + ' didn\\'t trade.')\n",
    "        elif choice == 1:\n",
    "            self._buy_food(other, prices, log_list)\n",
    "        elif choice == 2:\n",
    "            self._buy_cloth(other, prices, log_list)\n",
    "        else:\n",
    "            raise Exception('Invalid choice.')\n",
    "                \n",
    "        \n",
    "    def _buy_food(self, seller, prices, log_list):\n",
    "        '''\n",
    "        Buys 1 amount of food.\n",
    "        '''\n",
    "        if seller.amt_food > 1:         \n",
    "            if self.money > prices['food'] * 1:\n",
    "                self.money = self.money - 1 * prices['food']\n",
    "                seller.money = seller.money + 1 * prices['food']\n",
    "                \n",
    "                self.amt_food = self.amt_food + 1\n",
    "                seller.amt_food = seller.amt_food - 1\n",
    "                \n",
    "                log_list.append(f'{self.name} bought 1 food from {seller.name}')\n",
    "        else:\n",
    "            log_list.append('Seller ' + seller.name + ' doesn\\'t have enough to sell.')\n",
    "\n",
    "    def _buy_cloth(self, seller, prices, log_list):\n",
    "        '''\n",
    "        Buys 1 amount of cloth.\n",
    "        '''\n",
    "        if seller.amt_cloth > 1:\n",
    "            if self.money > prices['cloth'] * 1:\n",
    "                self.money = self.money - 1 * prices['cloth']\n",
    "                seller.money = seller.money + 1 * prices['cloth']\n",
    "                \n",
    "                self.amt_cloth = self.amt_cloth + 1\n",
    "                seller.amt_cloth = seller.amt_cloth - 1\n",
    "                \n",
    "                log_list.append(f'{self.name} bought 1 cloth from {seller.name}')\n",
    "        else:\n",
    "            log_list.append('Seller ' + seller.name + ' doesn\\'t have enough to sell.')\n",
    "\n",
    "    def calc_tot_wealth(self, prices):\n",
    "        '''\n",
    "        Calculates total money value.\n",
    "        '''\n",
    "        wealth = prices['food'] * self.amt_food + prices['cloth'] * self.amt_cloth + \\\n",
    "            self.money\n",
    "        self.wealth = wealth"
   ]
  },
  {
   "cell_type": "code",
   "execution_count": 313,
   "metadata": {},
   "outputs": [],
   "source": [
    "# tmp = person(name='test',\n",
    "#         amt_prod_food_per_day=1, \n",
    "#         amt_prod_cloth_per_day=5,\n",
    "#         px_1_food_in_cloth=2)"
   ]
  },
  {
   "cell_type": "code",
   "execution_count": null,
   "metadata": {},
   "outputs": [],
   "source": []
  },
  {
   "cell_type": "markdown",
   "metadata": {},
   "source": [
    "## Define `economy`"
   ]
  },
  {
   "cell_type": "code",
   "execution_count": 314,
   "metadata": {},
   "outputs": [],
   "source": [
    "class economy:\n",
    "    \n",
    "    def __init__(\n",
    "        self,\n",
    "        run_days=20,\n",
    "        prices={},\n",
    "        policy='',\n",
    "        # **kwargs, include list of persons\n",
    "    ):\n",
    "        '''\n",
    "        Parameters\n",
    "        ----------\n",
    "        run_days: int\n",
    "            Number of days to run the economy.\n",
    "        '''\n",
    "        self.run_days = np.arange(0, run_days, step=1)\n",
    "        self.log = ''\n",
    "        self.prices = prices\n",
    "        self.policy = policy\n",
    "        \n",
    "        # Define persons in economy\n",
    "        self.farmer = person(\n",
    "            name = 'farmer',\n",
    "            amt_cons_food_per_day = 1,\n",
    "            amt_cons_cloth_per_day = 1,\n",
    "            amt_prod_food_per_day = 4, \n",
    "            amt_prod_cloth_per_day = 2,\n",
    "            prices = prices\n",
    "        )\n",
    "\n",
    "        self.carpenter = person(\n",
    "            name = 'carpenter',\n",
    "            amt_cons_food_per_day = 1,\n",
    "            amt_cons_cloth_per_day = 1,\n",
    "            amt_prod_food_per_day = 2, \n",
    "            amt_prod_cloth_per_day = 4,\n",
    "            prices = prices\n",
    "        )\n",
    "        \n",
    "    def log_amounts(self, log_list):\n",
    "        log_list.append(\n",
    "            \"Farmer: Food: {0}, Cloth: {1}, Money: {2}\".format(\n",
    "                self.farmer.amt_food, self.farmer.amt_cloth, self.farmer.money\n",
    "        ))\n",
    "        log_list.append(\n",
    "            \"Carpenter: Food: {0}, Cloth: {1}, Money: {2}\".format(\n",
    "                self.carpenter.amt_food, self.carpenter.amt_cloth, self.carpenter.money\n",
    "        ))\n",
    "    \n",
    "    \n",
    "    def run_economy(self, log_file='log_file'):\n",
    "        tot_amt_farmer = {}\n",
    "        tot_amt_carpenter = {}\n",
    "        log_list = []\n",
    "        for i in self.run_days:\n",
    "            log_list.append('Day ' + str(i) + ' starts')\n",
    "            \n",
    "            self.log_amounts(log_list)\n",
    "            \n",
    "            # Produce\n",
    "            log_list.append(f'******\\nProducing...')\n",
    "            \n",
    "            self.farmer.produce_goods()\n",
    "            self.log_amounts(log_list)\n",
    "            \n",
    "            self.carpenter.produce_goods()\n",
    "            self.log_amounts(log_list)\n",
    "            \n",
    "            log_list.append(f'Produce done')\n",
    "            \n",
    "            # Trade\n",
    "            if self.policy == 'No trading':\n",
    "                pass\n",
    "            else:\n",
    "                log_list.append(f'******\\nTrading...')\n",
    "                \n",
    "                self.farmer.trade(self.carpenter, self.prices, log_list)\n",
    "                self.log_amounts(log_list)\n",
    "                \n",
    "                self.carpenter.trade(self.farmer, self.prices, log_list)\n",
    "                self.log_amounts(log_list)\n",
    "                \n",
    "                log_list.append(f'Trade done')\n",
    "            \n",
    "            # Consume\n",
    "            log_list.append(f'******\\nConsuming...')\n",
    "\n",
    "            self.farmer.consume()\n",
    "            self.log_amounts(log_list)\n",
    "            \n",
    "            self.carpenter.consume()\n",
    "            self.log_amounts(log_list)\n",
    "            \n",
    "            log_list.append(f'Consume done')            \n",
    "\n",
    "            # Bookkeeping\n",
    "            self.farmer.calc_tot_wealth(self.prices)\n",
    "            self.carpenter.calc_tot_wealth(self.prices)\n",
    "            \n",
    "            tot_amt_farmer[i] = {\n",
    "                'food': self.farmer.amt_food, \n",
    "                'cloth': self.farmer.amt_cloth,\n",
    "                'money': self.farmer.money,\n",
    "                'wealth': self.farmer.wealth\n",
    "            }\n",
    "            tot_amt_carpenter[i] = {\n",
    "                'food': self.carpenter.amt_food, \n",
    "                'cloth': self.carpenter.amt_cloth,\n",
    "                'money': self.carpenter.money,\n",
    "                'wealth': self.carpenter.wealth\n",
    "            }\n",
    "\n",
    "            log_list.append('Day ' + str(i) + ' ends')\n",
    "            log_list.append('-------------------------')\n",
    "                    \n",
    "        # total amount per person\n",
    "        df_tot_amt_farmer = pd.DataFrame.from_dict(tot_amt_farmer, orient='index')\n",
    "        df_tot_amt_carpenter = pd.DataFrame.from_dict(tot_amt_carpenter, orient='index')\n",
    "        \n",
    "        # total wealth of economy\n",
    "        tot_wealth = (\n",
    "            df_tot_amt_farmer['wealth'] + df_tot_amt_carpenter['wealth']\n",
    "        )\n",
    "        \n",
    "        self.farmer.df_tot_amt = df_tot_amt_farmer\n",
    "        self.carpenter.df_tot_amt = df_tot_amt_carpenter\n",
    "        self.tot_wealth = tot_wealth\n",
    "        \n",
    "        # Logging\n",
    "        self.log = '\\n'.join(log_list)\n",
    "        with open(f'logs/{log_file}.txt', \"w\") as file:\n",
    "            file.write(self.log)\n",
    "        print(f\"Log saved to {log_file}.txt!\")\n"
   ]
  },
  {
   "cell_type": "code",
   "execution_count": 315,
   "metadata": {},
   "outputs": [],
   "source": [
    "def plot_wealth(econ):\n",
    "    plt.plot(econ.run_days, econ.tot_wealth, marker='o')\n",
    "    plt.xlabel(\"Days\")\n",
    "    plt.ylabel(\"Total wealth (in money)\")\n",
    "    plt.title(\"Total wealth of the economy over time\")\n",
    "    plt.show()\n",
    "\n",
    "def plot_compare_econ(econs:dict, figsize=(7, 3)):\n",
    "    fig, axes = plt.subplots(figsize=figsize)\n",
    "\n",
    "    n = len(econs)\n",
    "\n",
    "    for k, curr_econ in econs.items():\n",
    "        axes.plot(curr_econ.run_days, curr_econ.tot_wealth, marker='o',\n",
    "                  label=k)\n",
    "        \n",
    "    axes.set_xlabel(\"Days\")\n",
    "    axes.set_ylabel(\"Total wealth (in money)\")\n",
    "    axes.set_title(\"Total wealth of the economy over time\")\n",
    "    axes.legend()\n",
    "    \n",
    "    plt.close(fig)\n",
    "    return fig\n",
    "\n",
    "def plot_person(person):\n",
    "    person.df_tot_amt.plot(marker='o')"
   ]
  },
  {
   "cell_type": "code",
   "execution_count": 316,
   "metadata": {},
   "outputs": [],
   "source": [
    "prices = {\n",
    "    'food': 5,\n",
    "    'cloth': 5\n",
    "}"
   ]
  },
  {
   "cell_type": "markdown",
   "metadata": {},
   "source": [
    "# Run"
   ]
  },
  {
   "cell_type": "markdown",
   "metadata": {},
   "source": [
    "## No trading\n",
    "\n",
    "If no trading, then total wealth will be lower."
   ]
  },
  {
   "cell_type": "code",
   "execution_count": 317,
   "metadata": {},
   "outputs": [],
   "source": [
    "econ_1 = economy(run_days=100, prices=prices)\n",
    "econ_2 = economy(run_days=100, prices=prices, policy='No trading')"
   ]
  },
  {
   "cell_type": "code",
   "execution_count": 318,
   "metadata": {},
   "outputs": [
    {
     "name": "stdout",
     "output_type": "stream",
     "text": [
      "Log saved to log_1.txt!\n"
     ]
    }
   ],
   "source": [
    "econ_1.run_economy(log_file='log_1')"
   ]
  },
  {
   "cell_type": "code",
   "execution_count": 319,
   "metadata": {},
   "outputs": [
    {
     "name": "stdout",
     "output_type": "stream",
     "text": [
      "Log saved to log_2.txt!\n"
     ]
    }
   ],
   "source": [
    "econ_2.run_economy(log_file='log_2')"
   ]
  },
  {
   "cell_type": "code",
   "execution_count": 320,
   "metadata": {},
   "outputs": [],
   "source": [
    "econs={'Base': econ_1, 'No trading': econ_2}"
   ]
  },
  {
   "cell_type": "code",
   "execution_count": 321,
   "metadata": {},
   "outputs": [
    {
     "data": {
      "image/png": "[encoded data removed]",
      "text/plain": [
       "<Figure size 700x300 with 1 Axes>"
      ]
     },
     "execution_count": 321,
     "metadata": {},
     "output_type": "execute_result"
    }
   ],
   "source": [
    "fig = plot_compare_econ(econs)\n",
    "fig"
   ]
  },
  {
   "cell_type": "code",
   "execution_count": 38,
   "metadata": {},
   "outputs": [
    {
     "name": "stdout",
     "output_type": "stream",
     "text": [
      "Log saved to log_file.txt!\n"
     ]
    }
   ],
   "source": []
  },
  {
   "cell_type": "code",
   "execution_count": 39,
   "metadata": {},
   "outputs": [
    {
     "name": "stdout",
     "output_type": "stream",
     "text": [
      "Log saved to log_file.txt!\n"
     ]
    }
   ],
   "source": []
  },
  {
   "cell_type": "code",
   "execution_count": null,
   "metadata": {},
   "outputs": [],
   "source": []
  },
  {
   "cell_type": "code",
   "execution_count": null,
   "metadata": {},
   "outputs": [],
   "source": []
  },
  {
   "cell_type": "code",
   "execution_count": null,
   "metadata": {},
   "outputs": [],
   "source": []
  },
  {
   "cell_type": "code",
   "execution_count": null,
   "metadata": {},
   "outputs": [],
   "source": []
  }
 ],
 "metadata": {
  "kernelspec": {
   "display_name": "Python 3 (ipykernel)",
   "language": "python",
   "name": "python3"
  },
  "language_info": {
   "codemirror_mode": {
    "name": "ipython",
    "version": 3
   },
   "file_extension": ".py",
   "mimetype": "text/x-python",
   "name": "python",
   "nbconvert_exporter": "python",
   "pygments_lexer": "ipython3",
   "version": "3.11.3"
  }
 },
 "nbformat": 4,
 "nbformat_minor": 4
}
